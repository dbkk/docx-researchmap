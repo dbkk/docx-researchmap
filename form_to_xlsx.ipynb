{
  "cells": [
    {
      "cell_type": "code",
      "metadata": {
        "id": "a3PnsyICVY2v",
        "colab_type": "code",
        "colab": {}
      },
      "source": [
        "outputdirectory = \"../docx-researchmap-outputs/\"\n",
        "\n",
        "file_name_save = outputdirectory+\"filledintest.xlsx\" #ダウンロードされるファイル名\n",
        "\n"
      ],
      "execution_count": 5,
      "outputs": []
    },
    {
      "cell_type": "code",
      "metadata": {
        "id": "0rIZIv9QVY3G",
        "colab_type": "code",
        "outputId": "d82aa3e7-d9b3-4c72-b1f9-67fa0b1311b8",
        "colab": {
          "base_uri": "https://localhost:8080/",
          "height": 204
        }
      },
      "source": [
        "import requests,json,sys,os, gspread, time, re, openpyxl\n",
        "import numpy as np\n",
        "if 'google.colab' in str(get_ipython()):\n",
        "    %pip install python-docx\n",
        "    from google.colab import files,auth\n",
        "    from oauth2client.client import GoogleCredentials\n",
        "    outputdirectory = ''\n",
        "else:\n",
        "    outputdirectory = '../docx-researchmap-outputs/' #ローカルで実行する場合は保存ファイルのディレクトリを適当に指定\n",
        "    os.makedirs(outputdirectory,exist_ok=True)\n",
        "import pandas as pd\n",
        "file_name=outputdirectory+file_name_save"
      ],
      "execution_count": 26,
      "outputs": []
    },
    {
      "cell_type": "code",
      "execution_count": 62,
      "metadata": {},
      "outputs": [
        {
          "output_type": "execute_result",
          "data": {
            "text/plain": [
              "    班  番号 代表分担協力     Surname  First name   苗字    名         researchmapID  \\\n",
              "0   A   1      D       Okada     Yasushi   岡田   康志          yokadayokada   \n",
              "1   A   1      B        Sasa   Shin-ichi   佐々   真一              sasa3341   \n",
              "2   A   1      B   Kawaguchi       Kyogo   川口   喬吾                kyogok   \n",
              "3   A   1      B     Kambara   Taketoshi   神原   丈敏               kambara   \n",
              "4   A   1      B       Enoki      Sawako    榎  佐和子  senoki_research_1234   \n",
              "5   A   1      B     Ikezaki       Keigo   池崎   圭吾         keigo_ikezaki   \n",
              "6   B   1      D      Sagawa    Takahiro   沙川   貴大             taksagawa   \n",
              "7   B   1      B         Ito      Sosuke   伊藤   創祐             sosukeito   \n",
              "8   B   1      K      Ashida       Keita   芦田   慶太               KAshida   \n",
              "9   B   2      D    Ishijima     Akihiko   石島   秋彦            A.Ishijima   \n",
              "10  B   2      B     Fukuoka      Hajime   福岡    創   fps_475-511-530-610   \n",
              "11  B   2      B         Che    Yong-Suk    蔡   栄淑          read00283615   \n",
              "12  B   3      D        Aoki    Kazuhiro   青木   一洋         kazuhiro_aoki   \n",
              "13  B   3      B    Matsuoka      Satomi   松岡   里実           read0212004   \n",
              "14  C   1      D   Kobayashi   Tetsuya J   小林   徹也            7000018565   \n",
              "15  C   2      D    Takeuchi  Kazumasa A   竹内   一将               kaztake   \n",
              "16  C   2      B  Nishiguchi       Daiki   西口   大貴      daiki_nishiguchi   \n",
              "17  C   3      D       Sawai     Satoshi   澤井    哲          satoshisawai   \n",
              "18  C   3      B     Inomata    Hidehiko   猪股   秀彦               hideino   \n",
              "19  C   3      B    Nakajima     Akihiko   中島  昭彦        akihikonakajima   \n",
              "20  D   1      D      Mizuno     Daisuke   水野   大介              dsmizuno   \n",
              "21  D   1      D      Komura   Shigeyuki   好村   滋行           shigekomura   \n",
              "22  D   1      D    Kanazawa     Kiyoshi   金澤  輝代士      kiyoshi_kanazawa   \n",
              "23  D   2      D       Kinjo    Masataka   金城   政孝           read0166413   \n",
              "24  D   2      D    Tanimoto      Hiromu   谷本    拓            7000009976   \n",
              "25  D   2      D   Tomishige      Michio   富重   道雄            7000026986   \n",
              "26  D   2      D     Komatsu    Hideyuki   小松   英幸           read0116967   \n",
              "27  D   2      D    Tanimoto    Hirokazu   谷本   博一            7000023016   \n",
              "28  D   2      D    Minamino       Tohru   南野    徹        tohru_minamino   \n",
              "29  D   2      D      Hosoda    Kazufumi   細田   一史           read0140693   \n",
              "30  D   2      D   Yamashiro      Sawako   山城  佐和子            7000010388   \n",
              "31  D   2      D      Nakane     Daisuke   中根   大介        daisuke.nakane   \n",
              "32  D   2      D    Nakamura     Shuichi   中村   修一       shuichinakamura   \n",
              "33  D   2      D     Yoshida       Junko   吉田   純子           read0032098   \n",
              "34  D   3      D       Sasai      Masaki   笹井   理生           read0046020   \n",
              "35  D   3      D      Fukuda    Hirokazu   福田   弘和           read0074912   \n",
              "36  D   3      D    Muneyuki        Eiro   宗行   英朗           read0008395   \n",
              "37  D   3      D       Ariga    Takayuki   有賀   隆行        ariga_takayuki   \n",
              "38  D   3      D   Morishita   Yoshihiro   森下   喜弘   yoshihiro_morishita   \n",
              "39  D   3      D      Oikawa     Tsukasa   及川    司           read0135625   \n",
              "40  D   3      D       Nagai      Ken H.   永井    健                   khn   \n",
              "41  D   3      D      Akieda        Yuki   龝枝   佑紀                akieda   \n",
              "42  D   3      D    Kitadate          Yu   北舘    祐                   YuK   \n",
              "43  D   3      D      Takubo       Naoko  田久保   直子               ntakubo   \n",
              "44  D   3      D     Shinkai        Soya   新海   創也           soyashinkai   \n",
              "\n",
              "     grantID  Start date    End date          著者名（2個目）    著者名（3個目）  \n",
              "0   19H05795  2019-06-28  2024-03-31               NaN         NaN  \n",
              "1   19H05795  2019-06-28  2024-03-31    Sasa Shin-ishi         NaN  \n",
              "2   19H05795  2019-06-28  2024-03-31               NaN         NaN  \n",
              "3   19H05795  2019-06-28  2024-03-31               NaN         NaN  \n",
              "4   19H05795  2019-06-28  2024-03-31               NaN         NaN  \n",
              "5   19H05795  2019-06-28  2024-03-31               NaN         NaN  \n",
              "6   19H05796  2019-06-28  2024-03-31          Sagawa T         NaN  \n",
              "7   19H05796  2019-06-28  2024-03-31               NaN         NaN  \n",
              "8   19H05796  2019-06-28  2024-03-31               NaN         NaN  \n",
              "9   19H05797  2019-06-28  2024-03-31               NaN         NaN  \n",
              "10  19H05797  2019-06-28  2024-03-31               NaN         NaN  \n",
              "11  19H05797  2019-06-28  2024-03-31               NaN         NaN  \n",
              "12  19H05798  2019-06-28  2024-03-31               NaN         NaN  \n",
              "13  19H05798  2019-06-28  2024-03-31               NaN         NaN  \n",
              "14  19H05799  2019-06-28  2024-03-31               NaN         NaN  \n",
              "15  19H05800  2019-06-28  2024-03-31               NaN         NaN  \n",
              "16  19H05800  2019-06-28  2024-03-31               NaN         NaN  \n",
              "17  19H05801  2019-06-28  2024-03-31               NaN         NaN  \n",
              "18  19H05801  2019-06-28  2024-03-31               NaN         NaN  \n",
              "19  19H05801  2019-06-28  2024-03-31               NaN         NaN  \n",
              "20  20H05536  2020-04-01  2022-03-31          D Mizuno    Mizuno D  \n",
              "21  20H05538  2020-04-01  2022-03-31               NaN         NaN  \n",
              "22  20H05526  2020-04-01  2022-03-31               NaN         NaN  \n",
              "23  20H05522  2020-04-01  2022-03-31    Masakata Kinjo         NaN  \n",
              "24  20H05525  2020-04-01  2022-03-31               NaN         NaN  \n",
              "25  20H05542  2020-04-01  2022-03-31               NaN         NaN  \n",
              "26  20H05537  2020-04-01  2022-03-31               NaN         NaN  \n",
              "27  20H05539  2020-04-01  2022-03-31               NaN         NaN  \n",
              "28  20H05532  2020-04-01  2022-03-31               NaN         NaN  \n",
              "29  20H05533  2020-04-01  2022-03-31         Hosoda, K         NaN  \n",
              "30  20H05531  2020-04-01  2022-03-31  Sawako Yamashiro         NaN  \n",
              "31  20H05543  2020-04-01  2022-03-31               NaN         NaN  \n",
              "32  20H05524  2020-04-01  2022-03-31               NaN         NaN  \n",
              "33  20H05541  2020-04-01  2022-03-31        J. Yoshida         NaN  \n",
              "34  20H05530  2020-04-01  2022-03-31          Sasai M     M. Sasai  \n",
              "35  20H05540  2020-04-01  2022-03-31   Hirokazu Fukuda         NaN  \n",
              "36  20H05545  2020-04-01  2022-03-31        Muneyuki E         NaN  \n",
              "37  20H05535  2020-04-01  2022-03-31          T. Ariga     T Ariga  \n",
              "38  20H05551  2020-04-01  2022-03-31               NaN         NaN  \n",
              "39  20H05523  2020-04-01  2022-03-31         T. Oikawa    Oikawa T  \n",
              "40  20H05528  2020-04-01  2022-03-31       Ken H Nagai         NaN  \n",
              "41  20H05534  2020-04-01  2022-03-31         Akieda, Y   Y. Akieda  \n",
              "42  20H05548  2020-04-01  2022-03-31        Kitadate Y  Y Kitadate  \n",
              "43  20H05527  2020-04-01  2022-03-31         N. Takubo         NaN  \n",
              "44  20H05550  2020-04-01  2022-03-31               NaN         NaN  "
            ],
            "text/html": "<div>\n<style scoped>\n    .dataframe tbody tr th:only-of-type {\n        vertical-align: middle;\n    }\n\n    .dataframe tbody tr th {\n        vertical-align: top;\n    }\n\n    .dataframe thead th {\n        text-align: right;\n    }\n</style>\n<table border=\"1\" class=\"dataframe\">\n  <thead>\n    <tr style=\"text-align: right;\">\n      <th></th>\n      <th>班</th>\n      <th>番号</th>\n      <th>代表分担協力</th>\n      <th>Surname</th>\n      <th>First name</th>\n      <th>苗字</th>\n      <th>名</th>\n      <th>researchmapID</th>\n      <th>grantID</th>\n      <th>Start date</th>\n      <th>End date</th>\n      <th>著者名（2個目）</th>\n      <th>著者名（3個目）</th>\n    </tr>\n  </thead>\n  <tbody>\n    <tr>\n      <th>0</th>\n      <td>A</td>\n      <td>1</td>\n      <td>D</td>\n      <td>Okada</td>\n      <td>Yasushi</td>\n      <td>岡田</td>\n      <td>康志</td>\n      <td>yokadayokada</td>\n      <td>19H05795</td>\n      <td>2019-06-28</td>\n      <td>2024-03-31</td>\n      <td>NaN</td>\n      <td>NaN</td>\n    </tr>\n    <tr>\n      <th>1</th>\n      <td>A</td>\n      <td>1</td>\n      <td>B</td>\n      <td>Sasa</td>\n      <td>Shin-ichi</td>\n      <td>佐々</td>\n      <td>真一</td>\n      <td>sasa3341</td>\n      <td>19H05795</td>\n      <td>2019-06-28</td>\n      <td>2024-03-31</td>\n      <td>Sasa Shin-ishi</td>\n      <td>NaN</td>\n    </tr>\n    <tr>\n      <th>2</th>\n      <td>A</td>\n      <td>1</td>\n      <td>B</td>\n      <td>Kawaguchi</td>\n      <td>Kyogo</td>\n      <td>川口</td>\n      <td>喬吾</td>\n      <td>kyogok</td>\n      <td>19H05795</td>\n      <td>2019-06-28</td>\n      <td>2024-03-31</td>\n      <td>NaN</td>\n      <td>NaN</td>\n    </tr>\n    <tr>\n      <th>3</th>\n      <td>A</td>\n      <td>1</td>\n      <td>B</td>\n      <td>Kambara</td>\n      <td>Taketoshi</td>\n      <td>神原</td>\n      <td>丈敏</td>\n      <td>kambara</td>\n      <td>19H05795</td>\n      <td>2019-06-28</td>\n      <td>2024-03-31</td>\n      <td>NaN</td>\n      <td>NaN</td>\n    </tr>\n    <tr>\n      <th>4</th>\n      <td>A</td>\n      <td>1</td>\n      <td>B</td>\n      <td>Enoki</td>\n      <td>Sawako</td>\n      <td>榎</td>\n      <td>佐和子</td>\n      <td>senoki_research_1234</td>\n      <td>19H05795</td>\n      <td>2019-06-28</td>\n      <td>2024-03-31</td>\n      <td>NaN</td>\n      <td>NaN</td>\n    </tr>\n    <tr>\n      <th>5</th>\n      <td>A</td>\n      <td>1</td>\n      <td>B</td>\n      <td>Ikezaki</td>\n      <td>Keigo</td>\n      <td>池崎</td>\n      <td>圭吾</td>\n      <td>keigo_ikezaki</td>\n      <td>19H05795</td>\n      <td>2019-06-28</td>\n      <td>2024-03-31</td>\n      <td>NaN</td>\n      <td>NaN</td>\n    </tr>\n    <tr>\n      <th>6</th>\n      <td>B</td>\n      <td>1</td>\n      <td>D</td>\n      <td>Sagawa</td>\n      <td>Takahiro</td>\n      <td>沙川</td>\n      <td>貴大</td>\n      <td>taksagawa</td>\n      <td>19H05796</td>\n      <td>2019-06-28</td>\n      <td>2024-03-31</td>\n      <td>Sagawa T</td>\n      <td>NaN</td>\n    </tr>\n    <tr>\n      <th>7</th>\n      <td>B</td>\n      <td>1</td>\n      <td>B</td>\n      <td>Ito</td>\n      <td>Sosuke</td>\n      <td>伊藤</td>\n      <td>創祐</td>\n      <td>sosukeito</td>\n      <td>19H05796</td>\n      <td>2019-06-28</td>\n      <td>2024-03-31</td>\n      <td>NaN</td>\n      <td>NaN</td>\n    </tr>\n    <tr>\n      <th>8</th>\n      <td>B</td>\n      <td>1</td>\n      <td>K</td>\n      <td>Ashida</td>\n      <td>Keita</td>\n      <td>芦田</td>\n      <td>慶太</td>\n      <td>KAshida</td>\n      <td>19H05796</td>\n      <td>2019-06-28</td>\n      <td>2024-03-31</td>\n      <td>NaN</td>\n      <td>NaN</td>\n    </tr>\n    <tr>\n      <th>9</th>\n      <td>B</td>\n      <td>2</td>\n      <td>D</td>\n      <td>Ishijima</td>\n      <td>Akihiko</td>\n      <td>石島</td>\n      <td>秋彦</td>\n      <td>A.Ishijima</td>\n      <td>19H05797</td>\n      <td>2019-06-28</td>\n      <td>2024-03-31</td>\n      <td>NaN</td>\n      <td>NaN</td>\n    </tr>\n    <tr>\n      <th>10</th>\n      <td>B</td>\n      <td>2</td>\n      <td>B</td>\n      <td>Fukuoka</td>\n      <td>Hajime</td>\n      <td>福岡</td>\n      <td>創</td>\n      <td>fps_475-511-530-610</td>\n      <td>19H05797</td>\n      <td>2019-06-28</td>\n      <td>2024-03-31</td>\n      <td>NaN</td>\n      <td>NaN</td>\n    </tr>\n    <tr>\n      <th>11</th>\n      <td>B</td>\n      <td>2</td>\n      <td>B</td>\n      <td>Che</td>\n      <td>Yong-Suk</td>\n      <td>蔡</td>\n      <td>栄淑</td>\n      <td>read00283615</td>\n      <td>19H05797</td>\n      <td>2019-06-28</td>\n      <td>2024-03-31</td>\n      <td>NaN</td>\n      <td>NaN</td>\n    </tr>\n    <tr>\n      <th>12</th>\n      <td>B</td>\n      <td>3</td>\n      <td>D</td>\n      <td>Aoki</td>\n      <td>Kazuhiro</td>\n      <td>青木</td>\n      <td>一洋</td>\n      <td>kazuhiro_aoki</td>\n      <td>19H05798</td>\n      <td>2019-06-28</td>\n      <td>2024-03-31</td>\n      <td>NaN</td>\n      <td>NaN</td>\n    </tr>\n    <tr>\n      <th>13</th>\n      <td>B</td>\n      <td>3</td>\n      <td>B</td>\n      <td>Matsuoka</td>\n      <td>Satomi</td>\n      <td>松岡</td>\n      <td>里実</td>\n      <td>read0212004</td>\n      <td>19H05798</td>\n      <td>2019-06-28</td>\n      <td>2024-03-31</td>\n      <td>NaN</td>\n      <td>NaN</td>\n    </tr>\n    <tr>\n      <th>14</th>\n      <td>C</td>\n      <td>1</td>\n      <td>D</td>\n      <td>Kobayashi</td>\n      <td>Tetsuya J</td>\n      <td>小林</td>\n      <td>徹也</td>\n      <td>7000018565</td>\n      <td>19H05799</td>\n      <td>2019-06-28</td>\n      <td>2024-03-31</td>\n      <td>NaN</td>\n      <td>NaN</td>\n    </tr>\n    <tr>\n      <th>15</th>\n      <td>C</td>\n      <td>2</td>\n      <td>D</td>\n      <td>Takeuchi</td>\n      <td>Kazumasa A</td>\n      <td>竹内</td>\n      <td>一将</td>\n      <td>kaztake</td>\n      <td>19H05800</td>\n      <td>2019-06-28</td>\n      <td>2024-03-31</td>\n      <td>NaN</td>\n      <td>NaN</td>\n    </tr>\n    <tr>\n      <th>16</th>\n      <td>C</td>\n      <td>2</td>\n      <td>B</td>\n      <td>Nishiguchi</td>\n      <td>Daiki</td>\n      <td>西口</td>\n      <td>大貴</td>\n      <td>daiki_nishiguchi</td>\n      <td>19H05800</td>\n      <td>2019-06-28</td>\n      <td>2024-03-31</td>\n      <td>NaN</td>\n      <td>NaN</td>\n    </tr>\n    <tr>\n      <th>17</th>\n      <td>C</td>\n      <td>3</td>\n      <td>D</td>\n      <td>Sawai</td>\n      <td>Satoshi</td>\n      <td>澤井</td>\n      <td>哲</td>\n      <td>satoshisawai</td>\n      <td>19H05801</td>\n      <td>2019-06-28</td>\n      <td>2024-03-31</td>\n      <td>NaN</td>\n      <td>NaN</td>\n    </tr>\n    <tr>\n      <th>18</th>\n      <td>C</td>\n      <td>3</td>\n      <td>B</td>\n      <td>Inomata</td>\n      <td>Hidehiko</td>\n      <td>猪股</td>\n      <td>秀彦</td>\n      <td>hideino</td>\n      <td>19H05801</td>\n      <td>2019-06-28</td>\n      <td>2024-03-31</td>\n      <td>NaN</td>\n      <td>NaN</td>\n    </tr>\n    <tr>\n      <th>19</th>\n      <td>C</td>\n      <td>3</td>\n      <td>B</td>\n      <td>Nakajima</td>\n      <td>Akihiko</td>\n      <td>中島</td>\n      <td>昭彦</td>\n      <td>akihikonakajima</td>\n      <td>19H05801</td>\n      <td>2019-06-28</td>\n      <td>2024-03-31</td>\n      <td>NaN</td>\n      <td>NaN</td>\n    </tr>\n    <tr>\n      <th>20</th>\n      <td>D</td>\n      <td>1</td>\n      <td>D</td>\n      <td>Mizuno</td>\n      <td>Daisuke</td>\n      <td>水野</td>\n      <td>大介</td>\n      <td>dsmizuno</td>\n      <td>20H05536</td>\n      <td>2020-04-01</td>\n      <td>2022-03-31</td>\n      <td>D Mizuno</td>\n      <td>Mizuno D</td>\n    </tr>\n    <tr>\n      <th>21</th>\n      <td>D</td>\n      <td>1</td>\n      <td>D</td>\n      <td>Komura</td>\n      <td>Shigeyuki</td>\n      <td>好村</td>\n      <td>滋行</td>\n      <td>shigekomura</td>\n      <td>20H05538</td>\n      <td>2020-04-01</td>\n      <td>2022-03-31</td>\n      <td>NaN</td>\n      <td>NaN</td>\n    </tr>\n    <tr>\n      <th>22</th>\n      <td>D</td>\n      <td>1</td>\n      <td>D</td>\n      <td>Kanazawa</td>\n      <td>Kiyoshi</td>\n      <td>金澤</td>\n      <td>輝代士</td>\n      <td>kiyoshi_kanazawa</td>\n      <td>20H05526</td>\n      <td>2020-04-01</td>\n      <td>2022-03-31</td>\n      <td>NaN</td>\n      <td>NaN</td>\n    </tr>\n    <tr>\n      <th>23</th>\n      <td>D</td>\n      <td>2</td>\n      <td>D</td>\n      <td>Kinjo</td>\n      <td>Masataka</td>\n      <td>金城</td>\n      <td>政孝</td>\n      <td>read0166413</td>\n      <td>20H05522</td>\n      <td>2020-04-01</td>\n      <td>2022-03-31</td>\n      <td>Masakata Kinjo</td>\n      <td>NaN</td>\n    </tr>\n    <tr>\n      <th>24</th>\n      <td>D</td>\n      <td>2</td>\n      <td>D</td>\n      <td>Tanimoto</td>\n      <td>Hiromu</td>\n      <td>谷本</td>\n      <td>拓</td>\n      <td>7000009976</td>\n      <td>20H05525</td>\n      <td>2020-04-01</td>\n      <td>2022-03-31</td>\n      <td>NaN</td>\n      <td>NaN</td>\n    </tr>\n    <tr>\n      <th>25</th>\n      <td>D</td>\n      <td>2</td>\n      <td>D</td>\n      <td>Tomishige</td>\n      <td>Michio</td>\n      <td>富重</td>\n      <td>道雄</td>\n      <td>7000026986</td>\n      <td>20H05542</td>\n      <td>2020-04-01</td>\n      <td>2022-03-31</td>\n      <td>NaN</td>\n      <td>NaN</td>\n    </tr>\n    <tr>\n      <th>26</th>\n      <td>D</td>\n      <td>2</td>\n      <td>D</td>\n      <td>Komatsu</td>\n      <td>Hideyuki</td>\n      <td>小松</td>\n      <td>英幸</td>\n      <td>read0116967</td>\n      <td>20H05537</td>\n      <td>2020-04-01</td>\n      <td>2022-03-31</td>\n      <td>NaN</td>\n      <td>NaN</td>\n    </tr>\n    <tr>\n      <th>27</th>\n      <td>D</td>\n      <td>2</td>\n      <td>D</td>\n      <td>Tanimoto</td>\n      <td>Hirokazu</td>\n      <td>谷本</td>\n      <td>博一</td>\n      <td>7000023016</td>\n      <td>20H05539</td>\n      <td>2020-04-01</td>\n      <td>2022-03-31</td>\n      <td>NaN</td>\n      <td>NaN</td>\n    </tr>\n    <tr>\n      <th>28</th>\n      <td>D</td>\n      <td>2</td>\n      <td>D</td>\n      <td>Minamino</td>\n      <td>Tohru</td>\n      <td>南野</td>\n      <td>徹</td>\n      <td>tohru_minamino</td>\n      <td>20H05532</td>\n      <td>2020-04-01</td>\n      <td>2022-03-31</td>\n      <td>NaN</td>\n      <td>NaN</td>\n    </tr>\n    <tr>\n      <th>29</th>\n      <td>D</td>\n      <td>2</td>\n      <td>D</td>\n      <td>Hosoda</td>\n      <td>Kazufumi</td>\n      <td>細田</td>\n      <td>一史</td>\n      <td>read0140693</td>\n      <td>20H05533</td>\n      <td>2020-04-01</td>\n      <td>2022-03-31</td>\n      <td>Hosoda, K</td>\n      <td>NaN</td>\n    </tr>\n    <tr>\n      <th>30</th>\n      <td>D</td>\n      <td>2</td>\n      <td>D</td>\n      <td>Yamashiro</td>\n      <td>Sawako</td>\n      <td>山城</td>\n      <td>佐和子</td>\n      <td>7000010388</td>\n      <td>20H05531</td>\n      <td>2020-04-01</td>\n      <td>2022-03-31</td>\n      <td>Sawako Yamashiro</td>\n      <td>NaN</td>\n    </tr>\n    <tr>\n      <th>31</th>\n      <td>D</td>\n      <td>2</td>\n      <td>D</td>\n      <td>Nakane</td>\n      <td>Daisuke</td>\n      <td>中根</td>\n      <td>大介</td>\n      <td>daisuke.nakane</td>\n      <td>20H05543</td>\n      <td>2020-04-01</td>\n      <td>2022-03-31</td>\n      <td>NaN</td>\n      <td>NaN</td>\n    </tr>\n    <tr>\n      <th>32</th>\n      <td>D</td>\n      <td>2</td>\n      <td>D</td>\n      <td>Nakamura</td>\n      <td>Shuichi</td>\n      <td>中村</td>\n      <td>修一</td>\n      <td>shuichinakamura</td>\n      <td>20H05524</td>\n      <td>2020-04-01</td>\n      <td>2022-03-31</td>\n      <td>NaN</td>\n      <td>NaN</td>\n    </tr>\n    <tr>\n      <th>33</th>\n      <td>D</td>\n      <td>2</td>\n      <td>D</td>\n      <td>Yoshida</td>\n      <td>Junko</td>\n      <td>吉田</td>\n      <td>純子</td>\n      <td>read0032098</td>\n      <td>20H05541</td>\n      <td>2020-04-01</td>\n      <td>2022-03-31</td>\n      <td>J. Yoshida</td>\n      <td>NaN</td>\n    </tr>\n    <tr>\n      <th>34</th>\n      <td>D</td>\n      <td>3</td>\n      <td>D</td>\n      <td>Sasai</td>\n      <td>Masaki</td>\n      <td>笹井</td>\n      <td>理生</td>\n      <td>read0046020</td>\n      <td>20H05530</td>\n      <td>2020-04-01</td>\n      <td>2022-03-31</td>\n      <td>Sasai M</td>\n      <td>M. Sasai</td>\n    </tr>\n    <tr>\n      <th>35</th>\n      <td>D</td>\n      <td>3</td>\n      <td>D</td>\n      <td>Fukuda</td>\n      <td>Hirokazu</td>\n      <td>福田</td>\n      <td>弘和</td>\n      <td>read0074912</td>\n      <td>20H05540</td>\n      <td>2020-04-01</td>\n      <td>2022-03-31</td>\n      <td>Hirokazu Fukuda</td>\n      <td>NaN</td>\n    </tr>\n    <tr>\n      <th>36</th>\n      <td>D</td>\n      <td>3</td>\n      <td>D</td>\n      <td>Muneyuki</td>\n      <td>Eiro</td>\n      <td>宗行</td>\n      <td>英朗</td>\n      <td>read0008395</td>\n      <td>20H05545</td>\n      <td>2020-04-01</td>\n      <td>2022-03-31</td>\n      <td>Muneyuki E</td>\n      <td>NaN</td>\n    </tr>\n    <tr>\n      <th>37</th>\n      <td>D</td>\n      <td>3</td>\n      <td>D</td>\n      <td>Ariga</td>\n      <td>Takayuki</td>\n      <td>有賀</td>\n      <td>隆行</td>\n      <td>ariga_takayuki</td>\n      <td>20H05535</td>\n      <td>2020-04-01</td>\n      <td>2022-03-31</td>\n      <td>T. Ariga</td>\n      <td>T Ariga</td>\n    </tr>\n    <tr>\n      <th>38</th>\n      <td>D</td>\n      <td>3</td>\n      <td>D</td>\n      <td>Morishita</td>\n      <td>Yoshihiro</td>\n      <td>森下</td>\n      <td>喜弘</td>\n      <td>yoshihiro_morishita</td>\n      <td>20H05551</td>\n      <td>2020-04-01</td>\n      <td>2022-03-31</td>\n      <td>NaN</td>\n      <td>NaN</td>\n    </tr>\n    <tr>\n      <th>39</th>\n      <td>D</td>\n      <td>3</td>\n      <td>D</td>\n      <td>Oikawa</td>\n      <td>Tsukasa</td>\n      <td>及川</td>\n      <td>司</td>\n      <td>read0135625</td>\n      <td>20H05523</td>\n      <td>2020-04-01</td>\n      <td>2022-03-31</td>\n      <td>T. Oikawa</td>\n      <td>Oikawa T</td>\n    </tr>\n    <tr>\n      <th>40</th>\n      <td>D</td>\n      <td>3</td>\n      <td>D</td>\n      <td>Nagai</td>\n      <td>Ken H.</td>\n      <td>永井</td>\n      <td>健</td>\n      <td>khn</td>\n      <td>20H05528</td>\n      <td>2020-04-01</td>\n      <td>2022-03-31</td>\n      <td>Ken H Nagai</td>\n      <td>NaN</td>\n    </tr>\n    <tr>\n      <th>41</th>\n      <td>D</td>\n      <td>3</td>\n      <td>D</td>\n      <td>Akieda</td>\n      <td>Yuki</td>\n      <td>龝枝</td>\n      <td>佑紀</td>\n      <td>akieda</td>\n      <td>20H05534</td>\n      <td>2020-04-01</td>\n      <td>2022-03-31</td>\n      <td>Akieda, Y</td>\n      <td>Y. Akieda</td>\n    </tr>\n    <tr>\n      <th>42</th>\n      <td>D</td>\n      <td>3</td>\n      <td>D</td>\n      <td>Kitadate</td>\n      <td>Yu</td>\n      <td>北舘</td>\n      <td>祐</td>\n      <td>YuK</td>\n      <td>20H05548</td>\n      <td>2020-04-01</td>\n      <td>2022-03-31</td>\n      <td>Kitadate Y</td>\n      <td>Y Kitadate</td>\n    </tr>\n    <tr>\n      <th>43</th>\n      <td>D</td>\n      <td>3</td>\n      <td>D</td>\n      <td>Takubo</td>\n      <td>Naoko</td>\n      <td>田久保</td>\n      <td>直子</td>\n      <td>ntakubo</td>\n      <td>20H05527</td>\n      <td>2020-04-01</td>\n      <td>2022-03-31</td>\n      <td>N. Takubo</td>\n      <td>NaN</td>\n    </tr>\n    <tr>\n      <th>44</th>\n      <td>D</td>\n      <td>3</td>\n      <td>D</td>\n      <td>Shinkai</td>\n      <td>Soya</td>\n      <td>新海</td>\n      <td>創也</td>\n      <td>soyashinkai</td>\n      <td>20H05550</td>\n      <td>2020-04-01</td>\n      <td>2022-03-31</td>\n      <td>NaN</td>\n      <td>NaN</td>\n    </tr>\n  </tbody>\n</table>\n</div>"
          },
          "metadata": {},
          "execution_count": 62
        }
      ],
      "source": [
        "#スプレッドシートをダウンロード\n",
        "sheeturl='https://docs.google.com/spreadsheets/d/1wce1XHSFGSBttupnSIqe_5abtijBb_hBYM2bfaV9Jn4/edit#gid=0' #作成したgoogle spreadsheetのアドレス\n",
        "sheeturl_csv=re.match(\"https://docs.google.com/spreadsheets/d/.+/\",sheeturl).group(0)+\"export?format=csv\"\n",
        "name_data=pd.read_csv(sheeturl_csv)"
      ]
    },
    {
      "cell_type": "code",
      "metadata": {
        "id": "nlnwDJeCW4PW",
        "colab_type": "code",
        "colab": {}
      },
      "source": [
        "#スプレッドシートをダウンロード\n",
        "sheeturlform='https://docs.google.com/spreadsheets/d/1WrQwU1QKW5KnJX8ORxt1dihAH3M_AAv15HfIVCW9TrA/edit?resourcekey#gid=1794423468' #form由来のgoogle spreadsheetのアドレス\n",
        "sheeturlform_csv=re.match(\"https://docs.google.com/spreadsheets/d/.+/\",sheeturlform).group(0)+\"export?format=csv\"\n",
        "col_names = ['c{0:02d}'.format(i) for i in range(46)]\n",
        "name_dataform=pd.read_csv(sheeturlform_csv,header=0,names=col_names)\n",
        "name_dataform=name_dataform.sort_values('c00', ascending=False)\n",
        "name_dataform"
      ],
      "execution_count": 57,
      "outputs": [
        {
          "output_type": "execute_result",
          "data": {
            "text/plain": [
              "                   c00                          c01    c02  c03  c04  c05  \\\n",
              "8  2021/05/13 19:12:39             dice-k@uec.ac.jp  中根 大介  NaN  NaN  NaN   \n",
              "7  2021/05/13 18:43:19   mizuno@phys.kyushu-u.ac.jp  水野 大介  NaN  NaN  NaN   \n",
              "6  2021/05/13 16:52:07      ariga@yamaguchi-u.ac.jp  有賀 隆行  NaN  NaN  NaN   \n",
              "5  2021/05/13 16:06:47        soya.shinkai@riken.jp  新海 創也  NaN  NaN  NaN   \n",
              "4  2021/05/13 15:25:09     hosodakazufumi@gmail.com  細田 一史  NaN  NaN  NaN   \n",
              "3  2021/05/13 14:48:13      kinjo@sci.hokudai.ac.jp  金城 政孝  NaN  NaN  NaN   \n",
              "2  2021/05/13 13:43:53  tetsuya@sat.t.u-tokyo.ac.jp  小林 徹也  0.0  3.0  2.0   \n",
              "1  2021/05/12 18:30:07    amamori@fbs.osaka-u.ac.jp  石島 秋彦  2.0  1.0  NaN   \n",
              "0  2021/05/12 17:24:27     kyogo.kawaguchi@riken.jp  川口 喬吾  NaN  NaN  NaN   \n",
              "\n",
              "   c06  c07  c08  c09  ...                                               c36  \\\n",
              "8  NaN  NaN  NaN  NaN  ...                                               NaN   \n",
              "7  NaN  NaN  NaN  NaN  ...                                                 0   \n",
              "6  NaN  NaN  NaN  NaN  ...                               九州大学・水野研、青山学院大学・富重研   \n",
              "5  NaN  NaN  NaN  NaN  ...                     遺伝学研究所・前島研、広島大学・落合研、医薬基盤研・今井研   \n",
              "4  NaN  NaN  NaN  NaN  ...  東北大学・近藤倫生研、大阪大学・松田秀雄研、東京大学・古澤力研、水産研究教育機構・漁業情報解析室   \n",
              "3  NaN  NaN  NaN  NaN  ...                                 東京医科歯科大学　認知行動医学講座   \n",
              "2  0.0  2.0  0.0  0.0  ...             東京大学・若本研、理化学研究所・秋山研、慶応大学・舟橋研、近畿大学・山縣研   \n",
              "1  NaN  NaN  NaN  2.0  ...                                 東京大学・○○研、東北大学・▲▲研   \n",
              "0  NaN  NaN  NaN  NaN  ...                                               NaN   \n",
              "\n",
              "                                                 c37         c38  c39  \\\n",
              "8                                                NaN         NaN  NaN   \n",
              "7                                                  0           0    0   \n",
              "6                                                NaN         NaN  NaN   \n",
              "5                                                NaN         NaN  NaN   \n",
              "4                                                NaN         NaN  NaN   \n",
              "3  Karolinska Institutet,  Department of Clinical...         NaN  NaN   \n",
              "2                                                 なし          なし   なし   \n",
              "1                                         ユタ大学・□□lab  理化学研究所・☆☆研   □□   \n",
              "0  IMBA・RIVRON lab、Broad Insititute・Singh lab、Yal...         NaN  NaN   \n",
              "\n",
              "                                                 c40  \\\n",
              "8                                                NaN   \n",
              "7                                                NaN   \n",
              "6                                                NaN   \n",
              "5                                                NaN   \n",
              "4                                                NaN   \n",
              "3                                                NaN   \n",
              "2  American Academy of Sleep Medicine (AASM) Youn...   \n",
              "1  日本物理学会 学生優秀発表賞（領域11）〇〇〇〇 2020年3月、日本物理学会 若手奨励賞（...   \n",
              "0                                                NaN   \n",
              "\n",
              "                                                 c41  \\\n",
              "8                                                NaN   \n",
              "7                                                NaN   \n",
              "6                                                NaN   \n",
              "5                                                NaN   \n",
              "4                                                NaN   \n",
              "3                                                NaN   \n",
              "2  C班共同会議; 化学走性の会議(非公開, 石島研、小林研、神野圭太 Yale Univers...   \n",
              "1                アクティブマター勉強会（岡田研、竹内研、川口研）、A班内共同会議）\\n   \n",
              "0      アクティブマター勉強会（岡田研、竹内研、川口研）、A班内共同会議（岡田研、佐々研、川口研）   \n",
              "\n",
              "                                         c42                              c43  \\\n",
              "8                                        NaN                              NaN   \n",
              "7                                        NaN                              NaN   \n",
              "6                                        NaN                              NaN   \n",
              "5                                        NaN                              NaN   \n",
              "4                                        NaN                              NaN   \n",
              "3                                        NaN                              NaN   \n",
              "2                                         なし                               なし   \n",
              "1  〇〇〇〇（大学院生）、△△研、2020年1月に約2週間、〇〇実験手法の習得のため）  〇〇〇〇、2020年1月に約2週間、〇〇実験手法の習得のため）   \n",
              "0                                        NaN                              NaN   \n",
              "\n",
              "                                                 c44  \\\n",
              "8                                                NaN   \n",
              "7                                                NaN   \n",
              "6                                                NaN   \n",
              "5                                                NaN   \n",
              "4                                                NaN   \n",
              "3                                                NaN   \n",
              "2                                                 なし   \n",
              "1  〇〇〇〇、講演者、女子高生のためのサイエンスカフェ、2020年1月、 http://.......   \n",
              "0  理研BDRのHP改訂、ダイバーシティ・女性関連のページ作成https://www.bdr.r...   \n",
              "\n",
              "                                                 c45  \n",
              "8                         大学を移動になり。単独運営の研究室所属となりました。  \n",
              "7  現在本領域に深く関係する研究分野の理論研究者向けの准教授ポストを、九大物理に新たに作るべく活...  \n",
              "6  私の所属している医学系研究科には修士課程がありませんが、医学部の学部生（学士入学なので修士号...  \n",
              "5                                   特になしです。（ごめんなさい。）  \n",
              "4  ロボット工学系の博士前期課程の学生３人をRAとして雇用した。うち1人は女性。学生からは、生命...  \n",
              "3                                       関連研究にて学位取得1名  \n",
              "2                                                 なし  \n",
              "1                                     川口先生、有難うございます！  \n",
              "0             IPBセミナーにて、海外在住の若手研究者の発表の機会を作った（花井、武井）。  \n",
              "\n",
              "[9 rows x 46 columns]"
            ],
            "text/html": "<div>\n<style scoped>\n    .dataframe tbody tr th:only-of-type {\n        vertical-align: middle;\n    }\n\n    .dataframe tbody tr th {\n        vertical-align: top;\n    }\n\n    .dataframe thead th {\n        text-align: right;\n    }\n</style>\n<table border=\"1\" class=\"dataframe\">\n  <thead>\n    <tr style=\"text-align: right;\">\n      <th></th>\n      <th>c00</th>\n      <th>c01</th>\n      <th>c02</th>\n      <th>c03</th>\n      <th>c04</th>\n      <th>c05</th>\n      <th>c06</th>\n      <th>c07</th>\n      <th>c08</th>\n      <th>c09</th>\n      <th>...</th>\n      <th>c36</th>\n      <th>c37</th>\n      <th>c38</th>\n      <th>c39</th>\n      <th>c40</th>\n      <th>c41</th>\n      <th>c42</th>\n      <th>c43</th>\n      <th>c44</th>\n      <th>c45</th>\n    </tr>\n  </thead>\n  <tbody>\n    <tr>\n      <th>8</th>\n      <td>2021/05/13 19:12:39</td>\n      <td>dice-k@uec.ac.jp</td>\n      <td>中根 大介</td>\n      <td>NaN</td>\n      <td>NaN</td>\n      <td>NaN</td>\n      <td>NaN</td>\n      <td>NaN</td>\n      <td>NaN</td>\n      <td>NaN</td>\n      <td>...</td>\n      <td>NaN</td>\n      <td>NaN</td>\n      <td>NaN</td>\n      <td>NaN</td>\n      <td>NaN</td>\n      <td>NaN</td>\n      <td>NaN</td>\n      <td>NaN</td>\n      <td>NaN</td>\n      <td>大学を移動になり。単独運営の研究室所属となりました。</td>\n    </tr>\n    <tr>\n      <th>7</th>\n      <td>2021/05/13 18:43:19</td>\n      <td>mizuno@phys.kyushu-u.ac.jp</td>\n      <td>水野 大介</td>\n      <td>NaN</td>\n      <td>NaN</td>\n      <td>NaN</td>\n      <td>NaN</td>\n      <td>NaN</td>\n      <td>NaN</td>\n      <td>NaN</td>\n      <td>...</td>\n      <td>0</td>\n      <td>0</td>\n      <td>0</td>\n      <td>0</td>\n      <td>NaN</td>\n      <td>NaN</td>\n      <td>NaN</td>\n      <td>NaN</td>\n      <td>NaN</td>\n      <td>現在本領域に深く関係する研究分野の理論研究者向けの准教授ポストを、九大物理に新たに作るべく活...</td>\n    </tr>\n    <tr>\n      <th>6</th>\n      <td>2021/05/13 16:52:07</td>\n      <td>ariga@yamaguchi-u.ac.jp</td>\n      <td>有賀 隆行</td>\n      <td>NaN</td>\n      <td>NaN</td>\n      <td>NaN</td>\n      <td>NaN</td>\n      <td>NaN</td>\n      <td>NaN</td>\n      <td>NaN</td>\n      <td>...</td>\n      <td>九州大学・水野研、青山学院大学・富重研</td>\n      <td>NaN</td>\n      <td>NaN</td>\n      <td>NaN</td>\n      <td>NaN</td>\n      <td>NaN</td>\n      <td>NaN</td>\n      <td>NaN</td>\n      <td>NaN</td>\n      <td>私の所属している医学系研究科には修士課程がありませんが、医学部の学部生（学士入学なので修士号...</td>\n    </tr>\n    <tr>\n      <th>5</th>\n      <td>2021/05/13 16:06:47</td>\n      <td>soya.shinkai@riken.jp</td>\n      <td>新海 創也</td>\n      <td>NaN</td>\n      <td>NaN</td>\n      <td>NaN</td>\n      <td>NaN</td>\n      <td>NaN</td>\n      <td>NaN</td>\n      <td>NaN</td>\n      <td>...</td>\n      <td>遺伝学研究所・前島研、広島大学・落合研、医薬基盤研・今井研</td>\n      <td>NaN</td>\n      <td>NaN</td>\n      <td>NaN</td>\n      <td>NaN</td>\n      <td>NaN</td>\n      <td>NaN</td>\n      <td>NaN</td>\n      <td>NaN</td>\n      <td>特になしです。（ごめんなさい。）</td>\n    </tr>\n    <tr>\n      <th>4</th>\n      <td>2021/05/13 15:25:09</td>\n      <td>hosodakazufumi@gmail.com</td>\n      <td>細田 一史</td>\n      <td>NaN</td>\n      <td>NaN</td>\n      <td>NaN</td>\n      <td>NaN</td>\n      <td>NaN</td>\n      <td>NaN</td>\n      <td>NaN</td>\n      <td>...</td>\n      <td>東北大学・近藤倫生研、大阪大学・松田秀雄研、東京大学・古澤力研、水産研究教育機構・漁業情報解析室</td>\n      <td>NaN</td>\n      <td>NaN</td>\n      <td>NaN</td>\n      <td>NaN</td>\n      <td>NaN</td>\n      <td>NaN</td>\n      <td>NaN</td>\n      <td>NaN</td>\n      <td>ロボット工学系の博士前期課程の学生３人をRAとして雇用した。うち1人は女性。学生からは、生命...</td>\n    </tr>\n    <tr>\n      <th>3</th>\n      <td>2021/05/13 14:48:13</td>\n      <td>kinjo@sci.hokudai.ac.jp</td>\n      <td>金城 政孝</td>\n      <td>NaN</td>\n      <td>NaN</td>\n      <td>NaN</td>\n      <td>NaN</td>\n      <td>NaN</td>\n      <td>NaN</td>\n      <td>NaN</td>\n      <td>...</td>\n      <td>東京医科歯科大学　認知行動医学講座</td>\n      <td>Karolinska Institutet,  Department of Clinical...</td>\n      <td>NaN</td>\n      <td>NaN</td>\n      <td>NaN</td>\n      <td>NaN</td>\n      <td>NaN</td>\n      <td>NaN</td>\n      <td>NaN</td>\n      <td>関連研究にて学位取得1名</td>\n    </tr>\n    <tr>\n      <th>2</th>\n      <td>2021/05/13 13:43:53</td>\n      <td>tetsuya@sat.t.u-tokyo.ac.jp</td>\n      <td>小林 徹也</td>\n      <td>0.0</td>\n      <td>3.0</td>\n      <td>2.0</td>\n      <td>0.0</td>\n      <td>2.0</td>\n      <td>0.0</td>\n      <td>0.0</td>\n      <td>...</td>\n      <td>東京大学・若本研、理化学研究所・秋山研、慶応大学・舟橋研、近畿大学・山縣研</td>\n      <td>なし</td>\n      <td>なし</td>\n      <td>なし</td>\n      <td>American Academy of Sleep Medicine (AASM) Youn...</td>\n      <td>C班共同会議; 化学走性の会議(非公開, 石島研、小林研、神野圭太 Yale Univers...</td>\n      <td>なし</td>\n      <td>なし</td>\n      <td>なし</td>\n      <td>なし</td>\n    </tr>\n    <tr>\n      <th>1</th>\n      <td>2021/05/12 18:30:07</td>\n      <td>amamori@fbs.osaka-u.ac.jp</td>\n      <td>石島 秋彦</td>\n      <td>2.0</td>\n      <td>1.0</td>\n      <td>NaN</td>\n      <td>NaN</td>\n      <td>NaN</td>\n      <td>NaN</td>\n      <td>2.0</td>\n      <td>...</td>\n      <td>東京大学・○○研、東北大学・▲▲研</td>\n      <td>ユタ大学・□□lab</td>\n      <td>理化学研究所・☆☆研</td>\n      <td>□□</td>\n      <td>日本物理学会 学生優秀発表賞（領域11）〇〇〇〇 2020年3月、日本物理学会 若手奨励賞（...</td>\n      <td>アクティブマター勉強会（岡田研、竹内研、川口研）、A班内共同会議）\\n</td>\n      <td>〇〇〇〇（大学院生）、△△研、2020年1月に約2週間、〇〇実験手法の習得のため）</td>\n      <td>〇〇〇〇、2020年1月に約2週間、〇〇実験手法の習得のため）</td>\n      <td>〇〇〇〇、講演者、女子高生のためのサイエンスカフェ、2020年1月、 http://.......</td>\n      <td>川口先生、有難うございます！</td>\n    </tr>\n    <tr>\n      <th>0</th>\n      <td>2021/05/12 17:24:27</td>\n      <td>kyogo.kawaguchi@riken.jp</td>\n      <td>川口 喬吾</td>\n      <td>NaN</td>\n      <td>NaN</td>\n      <td>NaN</td>\n      <td>NaN</td>\n      <td>NaN</td>\n      <td>NaN</td>\n      <td>NaN</td>\n      <td>...</td>\n      <td>NaN</td>\n      <td>IMBA・RIVRON lab、Broad Insititute・Singh lab、Yal...</td>\n      <td>NaN</td>\n      <td>NaN</td>\n      <td>NaN</td>\n      <td>アクティブマター勉強会（岡田研、竹内研、川口研）、A班内共同会議（岡田研、佐々研、川口研）</td>\n      <td>NaN</td>\n      <td>NaN</td>\n      <td>理研BDRのHP改訂、ダイバーシティ・女性関連のページ作成https://www.bdr.r...</td>\n      <td>IPBセミナーにて、海外在住の若手研究者の発表の機会を作った（花井、武井）。</td>\n    </tr>\n  </tbody>\n</table>\n<p>9 rows × 46 columns</p>\n</div>"
          },
          "metadata": {},
          "execution_count": 57
        }
      ]
    },
    {
      "cell_type": "code",
      "execution_count": 58,
      "metadata": {},
      "outputs": [],
      "source": [
        "allnamesJP=(name_data[\"苗字\"]+\" \"+name_data[\"名\"]).to_list()\n",
        "allnamesJP\n",
        "\n",
        "timestamps=name_dataform.iloc[:,0].to_list()\n",
        "namelist=name_dataform.iloc[:,2].to_list()\n",
        "namelistKeikaku=[if ]\n"
      ]
    },
    {
      "cell_type": "code",
      "execution_count": 59,
      "metadata": {},
      "outputs": [
        {
          "output_type": "execute_result",
          "data": {
            "text/plain": [
              "['中根 大介',\n",
              " '水野 大介',\n",
              " '有賀 隆行',\n",
              " '新海 創也',\n",
              " '細田 一史',\n",
              " '金城 政孝',\n",
              " '小林 徹也',\n",
              " '石島 秋彦',\n",
              " '川口 喬吾']"
            ]
          },
          "metadata": {},
          "execution_count": 59
        }
      ],
      "source": [
        "namelist"
      ]
    },
    {
      "cell_type": "code",
      "execution_count": 31,
      "metadata": {},
      "outputs": [],
      "source": [
        "wb = openpyxl.load_workbook(\"./inputfiles/R3中間評価報告書（1_領域全体）（13参考データExcel版）.xlsx\")\n",
        "ws = wb.worksheets[0]\n"
      ]
    },
    {
      "cell_type": "code",
      "execution_count": 61,
      "metadata": {},
      "outputs": [
        {
          "output_type": "execute_result",
          "data": {
            "text/plain": [
              "2.0"
            ]
          },
          "metadata": {},
          "execution_count": 61
        }
      ],
      "source": [
        "np.nansum(name_dataform.iloc[:,3].to_list())"
      ]
    },
    {
      "cell_type": "code",
      "execution_count": 36,
      "metadata": {},
      "outputs": [
        {
          "output_type": "stream",
          "name": "stdout",
          "text": [
            "['C10', 'D10', 'E10', 'F10', 'C11', 'D11', 'E11', 'F11', 'C12', 'D12', 'E12', 'F12', 'C13', 'D13', 'E13', 'F13', 'C14', 'D14', 'E14', 'F14']\n"
          ]
        }
      ],
      "source": [
        "# 研究代表者\n",
        "## R1 計画\n",
        "ws['C8'].value=8\n",
        "\n",
        "## R1 公募\n",
        "ws['D8'].value=0\n",
        "\n",
        "## R2 計画\n",
        "ws['E8'].value=8\n",
        "\n",
        "## R2 公募\n",
        "ws['F8'].value=8\n",
        "\n",
        "\n",
        "#研究分担者\n",
        "## R1 計画\n",
        "ws['C9'].value=8\n",
        "\n",
        "## R2 計画\n",
        "ws['E8'].value=8\n",
        "\n",
        "txt=[col+'{0:02d}'.format(i) for i in range(10,15) for col in ['C','D','E','F']]\n",
        "print(txt)\n",
        "#研究協力者\n",
        "\n",
        "\n",
        "#若手研究者[1]\n",
        "\n",
        "\n",
        "#外国人研究者\n",
        "\n",
        "\n",
        "#ポスドク[2]\n",
        "\n",
        "\n",
        "#RA等[2]\n"
      ]
    },
    {
      "cell_type": "code",
      "execution_count": null,
      "metadata": {},
      "outputs": [],
      "source": [
        "wb.save(file_name)"
      ]
    }
  ],
  "metadata": {
    "colab": {
      "name": "researchmapv2_to_docx_single.ipynb",
      "provenance": [],
      "collapsed_sections": []
    },
    "kernelspec": {
      "name": "python3",
      "display_name": "Python 3.7.6 64-bit ('base': conda)"
    },
    "language_info": {
      "codemirror_mode": {
        "name": "ipython",
        "version": 3
      },
      "file_extension": ".py",
      "mimetype": "text/x-python",
      "name": "python",
      "nbconvert_exporter": "python",
      "pygments_lexer": "ipython3",
      "version": "3.7.6"
    },
    "toc": {
      "colors": {
        "hover_highlight": "#DAA520",
        "navigate_num": "#000000",
        "navigate_text": "#333333",
        "running_highlight": "#FF0000",
        "selected_highlight": "#FFD700",
        "sidebar_border": "#EEEEEE",
        "wrapper_background": "#FFFFFF"
      },
      "moveMenuLeft": true,
      "nav_menu": {
        "height": "12px",
        "width": "252px"
      },
      "navigate_menu": true,
      "number_sections": true,
      "sideBar": true,
      "threshold": 4,
      "toc_cell": false,
      "toc_section_display": "block",
      "toc_window_display": false,
      "widenNotebook": false
    }
  },
  "nbformat": 4,
  "nbformat_minor": 0
}