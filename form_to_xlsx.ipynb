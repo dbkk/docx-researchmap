{
  "cells": [
    {
      "cell_type": "code",
      "metadata": {
        "id": "a3PnsyICVY2v",
        "colab_type": "code",
        "colab": {}
      },
      "source": [
        "outputdirectory = \"../docx-researchmap-outputs/\"\n",
        "\n",
        "file_name_save = outputdirectory+\"filledintest.xlsx\" #ダウンロードされるファイル名\n",
        "\n"
      ],
      "execution_count": 1,
      "outputs": []
    },
    {
      "cell_type": "code",
      "metadata": {
        "id": "0rIZIv9QVY3G",
        "colab_type": "code",
        "outputId": "d82aa3e7-d9b3-4c72-b1f9-67fa0b1311b8",
        "colab": {
          "base_uri": "https://localhost:8080/",
          "height": 204
        }
      },
      "source": [
        "import requests,json,sys,os, gspread, time, re, openpyxl\n",
        "import numpy as np\n",
        "if 'google.colab' in str(get_ipython()):\n",
        "    %pip install python-docx\n",
        "    from google.colab import files,auth\n",
        "    from oauth2client.client import GoogleCredentials\n",
        "    outputdirectory = ''\n",
        "else:\n",
        "    outputdirectory = '../docx-researchmap-outputs/' #ローカルで実行する場合は保存ファイルのディレクトリを適当に指定\n",
        "    os.makedirs(outputdirectory,exist_ok=True)\n",
        "import pandas as pd\n",
        "file_name=outputdirectory+file_name_save"
      ],
      "execution_count": 2,
      "outputs": []
    },
    {
      "cell_type": "code",
      "execution_count": 7,
      "metadata": {},
      "outputs": [],
      "source": [
        "#スプレッドシートをダウンロード\n",
        "sheeturl='https://docs.google.com/spreadsheets/d/1wce1XHSFGSBttupnSIqe_5abtijBb_hBYM2bfaV9Jn4/edit#gid=0' #新学術全員入りのリストのスプレッドシート\n",
        "sheeturl_csv=re.match(\"https://docs.google.com/spreadsheets/d/.+/\",sheeturl).group(0)+\"export?format=csv\"\n",
        "name_data=pd.read_csv(sheeturl_csv)"
      ]
    },
    {
      "cell_type": "code",
      "metadata": {
        "id": "nlnwDJeCW4PW",
        "colab_type": "code",
        "colab": {}
      },
      "source": [
        "#スプレッドシートをダウンロード\n",
        "sheeturlform='https://docs.google.com/spreadsheets/d/1WrQwU1QKW5KnJX8ORxt1dihAH3M_AAv15HfIVCW9TrA/edit?resourcekey#gid=1794423468' #入力form由来のgoogle spreadsheetのアドレス\n",
        "sheeturlform_csv=re.match(\"https://docs.google.com/spreadsheets/d/.+/\",sheeturlform).group(0)+\"export?format=csv\"\n",
        "col_names = ['c{0:02d}'.format(i) for i in range(46)]\n",
        "name_dataform=pd.read_csv(sheeturlform_csv,header=0,names=col_names)\n",
        "name_dataform=name_dataform.sort_values('c00')\n",
        "name_dataform=name_dataform.drop_duplicates(['c02'],keep='last') # 最新のデータだけ使う\n",
        "keikakudata=name_dataform[name_dataform['c02'].isin(allkeikaku)]\n",
        "buntandata=name_dataform[~name_dataform['c02'].isin(allkeikaku)]"
      ],
      "execution_count": 46,
      "outputs": []
    },
    {
      "cell_type": "code",
      "execution_count": 38,
      "metadata": {},
      "outputs": [],
      "source": [
        "allnames=(name_data[\"Surname\"]+' '+name_data[\"First name\"]).to_list()\n",
        "allSurname=name_data[\"Surname\"].to_list()\n",
        "allnamesJP=(name_data[\"苗字\"]+\" \"+name_data[\"名\"]).to_list()\n",
        "allgroupnames=name_data[\"班\"].to_list()\n",
        "allgroupnum=name_data[\"番号\"].to_list()\n",
        "allmembers=name_data[\"researchmapID\"].to_list()\n",
        "allDB=name_data[\"代表分担協力\"].values\n",
        "allkeikaku=[b for a,b in zip(allgroupnames,allnamesJP) if a in ['A','B','C']]\n",
        "allkeikakuPIs=[b for a,b,c in zip(allgroupnames,allnamesJP,allDB) if (a in ['A','B','C']) & (c =='D')]\n",
        "allDaihyoBuntan=list(allDB)\n",
        "grant_numbers=name_data[\"grantID\"].to_list()\n",
        "allmindate=name_data[\"Start date\"].to_list()\n",
        "allmaxdate=name_data[\"End date\"].to_list()\n",
        "\n",
        "timestamps=name_dataform.iloc[:,0].to_list()\n",
        "namelist=name_dataform.iloc[:,2].to_list()\n"
      ]
    },
    {
      "cell_type": "code",
      "execution_count": 48,
      "metadata": {},
      "outputs": [
        {
          "output_type": "execute_result",
          "data": {
            "text/plain": [
              "                    c00                             c01    c02  c03  c04  c05  \\\n",
              "0   2021/05/12 17:24:27        kyogo.kawaguchi@riken.jp  川口 喬吾  NaN  NaN  NaN   \n",
              "2   2021/05/13 13:43:53     tetsuya@sat.t.u-tokyo.ac.jp  小林 徹也  0.0  3.0  2.0   \n",
              "11  2021/05/14 14:08:17       amamori@fbs.osaka-u.ac.jp  石島 秋彦  1.0  1.0  NaN   \n",
              "10   2021/05/14 9:02:56               k-aoki@nibb.ac.jp  青木 一洋  1.0  2.0  2.0   \n",
              "23  2021/05/19 17:20:58                 kat@kaztake.org  竹内 一将  0.0  2.0  2.0   \n",
              "24  2021/05/19 18:18:31  sosuke.ito@ubi.s.u-tokyo.ac.jp  伊藤 創祐  NaN  1.0  1.0   \n",
              "25  2021/05/19 19:46:01         seto@ap.t.u-tokyo.ac.jp  沙川 貴大  NaN  3.0  4.0   \n",
              "26  2021/05/20 12:02:03       sasa@scphys.kyoto-u.ac.jp  佐々 真一  1.0  1.0  NaN   \n",
              "\n",
              "    c06  c07  c08  c09  ...  \\\n",
              "0   NaN  NaN  NaN  NaN  ...   \n",
              "2   0.0  2.0  0.0  0.0  ...   \n",
              "11  NaN  NaN  NaN  2.0  ...   \n",
              "10  0.0  0.0  0.0  1.0  ...   \n",
              "23  0.0  0.0  0.0  1.0  ...   \n",
              "24  0.0  1.0  0.0  0.0  ...   \n",
              "25  NaN  NaN  NaN  NaN  ...   \n",
              "26  NaN  1.0  1.0  1.0  ...   \n",
              "\n",
              "                                                  c36  \\\n",
              "0                                                 NaN   \n",
              "2               東京大学・若本研、理化学研究所・秋山研、慶応大学・舟橋研、近畿大学・山縣研   \n",
              "11                         東京大学・竹内研、東京大学・小林研、大阪大学・南野研   \n",
              "10                                東京大学・伊藤創祐研、広島大学・本田研   \n",
              "23  領域関係：東京大学・若本研、東京大学・沙川研、理研・川口研（深井さん）、東京大学・田久保さん...   \n",
              "24                            京都大学・佐々研、理研・脳科学総合研究センター   \n",
              "25                                 学習院大学、京都大学、東北大、東海大   \n",
              "26             茨城大学・中川研、慶応大学・斎藤研、東北大学・鳥谷部研、名古屋大学・宮崎研　   \n",
              "\n",
              "                                                  c37  c38  c39  \\\n",
              "0   IMBA・RIVRON lab、Broad Insititute・Singh lab、Yal...  NaN  NaN   \n",
              "2                                                  なし   なし   なし   \n",
              "11                                                NaN  NaN  NaN   \n",
              "10     プリンストン大学・Toettcher lab、イエール大学・Emonet lab（神野君と）  NaN  NaN   \n",
              "23  上海航空大・佐野研、ソルボンヌ大学（旧パリ第６大学）・LPTMC研、ESPCI・Gulliv...  NaN  NaN   \n",
              "24                          AMOLF・P. R. ten Wolde lab  NaN  NaN   \n",
              "25              University of Seoul、Konkuk University  NaN  NaN   \n",
              "26                                                NaN  NaN  NaN   \n",
              "\n",
              "                                                  c40  \\\n",
              "0                                                 NaN   \n",
              "2   American Academy of Sleep Medicine (AASM) Youn...   \n",
              "11                                                NaN   \n",
              "10                第72回日本細胞生物学会大会　若手優秀発表賞　後藤祐平 2020年6月   \n",
              "23  ・T. Shimaya, EBSA poster prize, Jul.24, 2019\\n...   \n",
              "24                    芦田慶太(ポスドク)、2020/03 - 藤原奨学基金 藤原賞   \n",
              "25  日本物理学会 学生優秀2021年3月発表賞（領域11）大坪舜 2021年3月、田中昭二賞（物...   \n",
              "26  Andreas  Dechant, Best paper award for \"Multid...   \n",
              "\n",
              "                                                  c41  \\\n",
              "0       アクティブマター勉強会（岡田研、竹内研、川口研）、A班内共同会議（岡田研、佐々研、川口研）   \n",
              "2   C班共同会議; 化学走性の会議(非公開, 石島研、小林研、神野圭太 Yale Univers...   \n",
              "11                                                NaN   \n",
              "10                                    B班内共同会議（2カ月に1回）   \n",
              "23                           アクティブマター勉強会（岡田研、竹内研、川口研）   \n",
              "24  エントロピー生成推定勉強会 (沙川研、伊藤研、岡田研）、B班内共同会議、佐々研との最適輸送理...   \n",
              "25                                                NaN   \n",
              "26                                          A班内共同セミナー   \n",
              "\n",
              "                                                  c42  c43  \\\n",
              "0                                                 NaN  NaN   \n",
              "2                                                  なし   なし   \n",
              "11                                                NaN  NaN   \n",
              "10                                                NaN  NaN   \n",
              "23  竹内一将研究室（C02班、代表）の竹内一将さん（准教授）、⻄口大貴さん（助教、C02班分担）...  NaN   \n",
              "24    芦田慶太(ポスドク) 、青木研、2020年3月に約1週間、細胞イメージング実験手法の習得のため  NaN   \n",
              "25                                                NaN  NaN   \n",
              "26                                                NaN  NaN   \n",
              "\n",
              "                                                  c44  \\\n",
              "0   理研BDRのHP改訂、ダイバーシティ・女性関連のページ作成https://www.bdr.r...   \n",
              "2                                                  なし   \n",
              "11                                                NaN   \n",
              "10                                                NaN   \n",
              "23  ・竹内一将、第64回 物性若手夏の学校 講義「KPZ普遍クラス －厳密解と実験が奏でる非平衡...   \n",
              "24                                                NaN   \n",
              "25                                                NaN   \n",
              "26                                                NaN   \n",
              "\n",
              "                                                  c45  \n",
              "0              IPBセミナーにて、海外在住の若手研究者の発表の機会を作った（花井、武井）。  \n",
              "2                                                  なし  \n",
              "11  R２年8月から、育休後の蔡助教が分担者として計画班に参加しました。石島研では、二人の保育園児...  \n",
              "10  2020年3月13日第31回自然科学研究機構シンポジウムで一般向けに研究の話をしました（アウ...  \n",
              "23                          海外学生の研究滞在受入（実施1件、今年度予定2件）  \n",
              "24                   伊藤研の学生である吉村耕平さんが、佐々研究室でセミナーを行った。  \n",
              "25                                                  .  \n",
              "26                             すでに書いたこと以上のことは思いつきません。  \n",
              "\n",
              "[8 rows x 46 columns]"
            ],
            "text/html": "<div>\n<style scoped>\n    .dataframe tbody tr th:only-of-type {\n        vertical-align: middle;\n    }\n\n    .dataframe tbody tr th {\n        vertical-align: top;\n    }\n\n    .dataframe thead th {\n        text-align: right;\n    }\n</style>\n<table border=\"1\" class=\"dataframe\">\n  <thead>\n    <tr style=\"text-align: right;\">\n      <th></th>\n      <th>c00</th>\n      <th>c01</th>\n      <th>c02</th>\n      <th>c03</th>\n      <th>c04</th>\n      <th>c05</th>\n      <th>c06</th>\n      <th>c07</th>\n      <th>c08</th>\n      <th>c09</th>\n      <th>...</th>\n      <th>c36</th>\n      <th>c37</th>\n      <th>c38</th>\n      <th>c39</th>\n      <th>c40</th>\n      <th>c41</th>\n      <th>c42</th>\n      <th>c43</th>\n      <th>c44</th>\n      <th>c45</th>\n    </tr>\n  </thead>\n  <tbody>\n    <tr>\n      <th>0</th>\n      <td>2021/05/12 17:24:27</td>\n      <td>kyogo.kawaguchi@riken.jp</td>\n      <td>川口 喬吾</td>\n      <td>NaN</td>\n      <td>NaN</td>\n      <td>NaN</td>\n      <td>NaN</td>\n      <td>NaN</td>\n      <td>NaN</td>\n      <td>NaN</td>\n      <td>...</td>\n      <td>NaN</td>\n      <td>IMBA・RIVRON lab、Broad Insititute・Singh lab、Yal...</td>\n      <td>NaN</td>\n      <td>NaN</td>\n      <td>NaN</td>\n      <td>アクティブマター勉強会（岡田研、竹内研、川口研）、A班内共同会議（岡田研、佐々研、川口研）</td>\n      <td>NaN</td>\n      <td>NaN</td>\n      <td>理研BDRのHP改訂、ダイバーシティ・女性関連のページ作成https://www.bdr.r...</td>\n      <td>IPBセミナーにて、海外在住の若手研究者の発表の機会を作った（花井、武井）。</td>\n    </tr>\n    <tr>\n      <th>2</th>\n      <td>2021/05/13 13:43:53</td>\n      <td>tetsuya@sat.t.u-tokyo.ac.jp</td>\n      <td>小林 徹也</td>\n      <td>0.0</td>\n      <td>3.0</td>\n      <td>2.0</td>\n      <td>0.0</td>\n      <td>2.0</td>\n      <td>0.0</td>\n      <td>0.0</td>\n      <td>...</td>\n      <td>東京大学・若本研、理化学研究所・秋山研、慶応大学・舟橋研、近畿大学・山縣研</td>\n      <td>なし</td>\n      <td>なし</td>\n      <td>なし</td>\n      <td>American Academy of Sleep Medicine (AASM) Youn...</td>\n      <td>C班共同会議; 化学走性の会議(非公開, 石島研、小林研、神野圭太 Yale Univers...</td>\n      <td>なし</td>\n      <td>なし</td>\n      <td>なし</td>\n      <td>なし</td>\n    </tr>\n    <tr>\n      <th>11</th>\n      <td>2021/05/14 14:08:17</td>\n      <td>amamori@fbs.osaka-u.ac.jp</td>\n      <td>石島 秋彦</td>\n      <td>1.0</td>\n      <td>1.0</td>\n      <td>NaN</td>\n      <td>NaN</td>\n      <td>NaN</td>\n      <td>NaN</td>\n      <td>2.0</td>\n      <td>...</td>\n      <td>東京大学・竹内研、東京大学・小林研、大阪大学・南野研</td>\n      <td>NaN</td>\n      <td>NaN</td>\n      <td>NaN</td>\n      <td>NaN</td>\n      <td>NaN</td>\n      <td>NaN</td>\n      <td>NaN</td>\n      <td>NaN</td>\n      <td>R２年8月から、育休後の蔡助教が分担者として計画班に参加しました。石島研では、二人の保育園児...</td>\n    </tr>\n    <tr>\n      <th>10</th>\n      <td>2021/05/14 9:02:56</td>\n      <td>k-aoki@nibb.ac.jp</td>\n      <td>青木 一洋</td>\n      <td>1.0</td>\n      <td>2.0</td>\n      <td>2.0</td>\n      <td>0.0</td>\n      <td>0.0</td>\n      <td>0.0</td>\n      <td>1.0</td>\n      <td>...</td>\n      <td>東京大学・伊藤創祐研、広島大学・本田研</td>\n      <td>プリンストン大学・Toettcher lab、イエール大学・Emonet lab（神野君と）</td>\n      <td>NaN</td>\n      <td>NaN</td>\n      <td>第72回日本細胞生物学会大会　若手優秀発表賞　後藤祐平 2020年6月</td>\n      <td>B班内共同会議（2カ月に1回）</td>\n      <td>NaN</td>\n      <td>NaN</td>\n      <td>NaN</td>\n      <td>2020年3月13日第31回自然科学研究機構シンポジウムで一般向けに研究の話をしました（アウ...</td>\n    </tr>\n    <tr>\n      <th>23</th>\n      <td>2021/05/19 17:20:58</td>\n      <td>kat@kaztake.org</td>\n      <td>竹内 一将</td>\n      <td>0.0</td>\n      <td>2.0</td>\n      <td>2.0</td>\n      <td>0.0</td>\n      <td>0.0</td>\n      <td>0.0</td>\n      <td>1.0</td>\n      <td>...</td>\n      <td>領域関係：東京大学・若本研、東京大学・沙川研、理研・川口研（深井さん）、東京大学・田久保さん...</td>\n      <td>上海航空大・佐野研、ソルボンヌ大学（旧パリ第６大学）・LPTMC研、ESPCI・Gulliv...</td>\n      <td>NaN</td>\n      <td>NaN</td>\n      <td>・T. Shimaya, EBSA poster prize, Jul.24, 2019\\n...</td>\n      <td>アクティブマター勉強会（岡田研、竹内研、川口研）</td>\n      <td>竹内一将研究室（C02班、代表）の竹内一将さん（准教授）、⻄口大貴さん（助教、C02班分担）...</td>\n      <td>NaN</td>\n      <td>・竹内一将、第64回 物性若手夏の学校 講義「KPZ普遍クラス －厳密解と実験が奏でる非平衡...</td>\n      <td>海外学生の研究滞在受入（実施1件、今年度予定2件）</td>\n    </tr>\n    <tr>\n      <th>24</th>\n      <td>2021/05/19 18:18:31</td>\n      <td>sosuke.ito@ubi.s.u-tokyo.ac.jp</td>\n      <td>伊藤 創祐</td>\n      <td>NaN</td>\n      <td>1.0</td>\n      <td>1.0</td>\n      <td>0.0</td>\n      <td>1.0</td>\n      <td>0.0</td>\n      <td>0.0</td>\n      <td>...</td>\n      <td>京都大学・佐々研、理研・脳科学総合研究センター</td>\n      <td>AMOLF・P. R. ten Wolde lab</td>\n      <td>NaN</td>\n      <td>NaN</td>\n      <td>芦田慶太(ポスドク)、2020/03 - 藤原奨学基金 藤原賞</td>\n      <td>エントロピー生成推定勉強会 (沙川研、伊藤研、岡田研）、B班内共同会議、佐々研との最適輸送理...</td>\n      <td>芦田慶太(ポスドク) 、青木研、2020年3月に約1週間、細胞イメージング実験手法の習得のため</td>\n      <td>NaN</td>\n      <td>NaN</td>\n      <td>伊藤研の学生である吉村耕平さんが、佐々研究室でセミナーを行った。</td>\n    </tr>\n    <tr>\n      <th>25</th>\n      <td>2021/05/19 19:46:01</td>\n      <td>seto@ap.t.u-tokyo.ac.jp</td>\n      <td>沙川 貴大</td>\n      <td>NaN</td>\n      <td>3.0</td>\n      <td>4.0</td>\n      <td>NaN</td>\n      <td>NaN</td>\n      <td>NaN</td>\n      <td>NaN</td>\n      <td>...</td>\n      <td>学習院大学、京都大学、東北大、東海大</td>\n      <td>University of Seoul、Konkuk University</td>\n      <td>NaN</td>\n      <td>NaN</td>\n      <td>日本物理学会 学生優秀2021年3月発表賞（領域11）大坪舜 2021年3月、田中昭二賞（物...</td>\n      <td>NaN</td>\n      <td>NaN</td>\n      <td>NaN</td>\n      <td>NaN</td>\n      <td>.</td>\n    </tr>\n    <tr>\n      <th>26</th>\n      <td>2021/05/20 12:02:03</td>\n      <td>sasa@scphys.kyoto-u.ac.jp</td>\n      <td>佐々 真一</td>\n      <td>1.0</td>\n      <td>1.0</td>\n      <td>NaN</td>\n      <td>NaN</td>\n      <td>1.0</td>\n      <td>1.0</td>\n      <td>1.0</td>\n      <td>...</td>\n      <td>茨城大学・中川研、慶応大学・斎藤研、東北大学・鳥谷部研、名古屋大学・宮崎研</td>\n      <td>NaN</td>\n      <td>NaN</td>\n      <td>NaN</td>\n      <td>Andreas  Dechant, Best paper award for \"Multid...</td>\n      <td>A班内共同セミナー</td>\n      <td>NaN</td>\n      <td>NaN</td>\n      <td>NaN</td>\n      <td>すでに書いたこと以上のことは思いつきません。</td>\n    </tr>\n  </tbody>\n</table>\n<p>8 rows × 46 columns</p>\n</div>"
          },
          "metadata": {},
          "execution_count": 48
        }
      ],
      "source": [
        "keikakudata"
      ]
    },
    {
      "cell_type": "code",
      "execution_count": 19,
      "metadata": {},
      "outputs": [
        {
          "output_type": "stream",
          "name": "stdout",
          "text": [
            "岡田 康志, 佐々 真一, hi\n神原 丈敏, 榎 佐和子, 池崎 圭吾, hi\nhi\n芦田 慶太, hi\n福岡 創, 蔡 栄淑, hi\n松岡 里実, hi\nhi\n西口 大貴, 澤井 哲, 猪股 秀彦, 中島 昭彦 , hi\nhi\nhi\nhi\nhi\nhi\nhi\n谷本 博一, hi\nhi\nhi\nhi\n中村 修一, 吉田 純子, 笹井 理生, 福田 弘和, 宗行 英朗, hi\n森下 喜弘, hi\n永井 健, hi\nhi\n田久保 直子, hi\n"
          ]
        }
      ],
      "source": [
        "usingData = np.zeros(len(namelist),dtype=bool)\n",
        "for nn in allPIs:\n",
        "    if nn not in namelist:\n",
        "        print(nn, end=', ')\n",
        "    else:\n",
        "        print('hi')"
      ]
    },
    {
      "cell_type": "code",
      "execution_count": 20,
      "metadata": {},
      "outputs": [
        {
          "output_type": "execute_result",
          "data": {
            "text/plain": [
              "array([False, False, False, False, False, False, False, False, False,\n",
              "       False, False, False, False, False, False, False, False, False,\n",
              "       False, False, False, False, False, False, False, False])"
            ]
          },
          "metadata": {},
          "execution_count": 20
        }
      ],
      "source": [
        "usingData"
      ]
    },
    {
      "cell_type": "code",
      "execution_count": 50,
      "metadata": {},
      "outputs": [],
      "source": [
        "wb = openpyxl.load_workbook(\"./inputfiles/R3中間評価報告書（1_領域全体）（13参考データExcel版）.xlsx\")\n",
        "ws = wb.worksheets[0]\n"
      ]
    },
    {
      "cell_type": "code",
      "execution_count": 61,
      "metadata": {},
      "outputs": [
        {
          "output_type": "execute_result",
          "data": {
            "text/plain": [
              "2.0"
            ]
          },
          "metadata": {},
          "execution_count": 61
        }
      ],
      "source": [
        "np.nansum(name_dataform.iloc[:,3].to_list())"
      ]
    },
    {
      "cell_type": "code",
      "execution_count": 81,
      "metadata": {},
      "outputs": [
        {
          "output_type": "stream",
          "name": "stdout",
          "text": [
            "C10 D10 c04\nC11 D11 c05\nC12 D12 c06\nC13 D13 c07\nC14 D14 c08\nE10 F10 c10\nE11 F11 c11\nE12 F12 c12\nE13 F13 c13\nE14 F14 c14\n"
          ]
        }
      ],
      "source": [
        "# 研究代表者人数\n",
        "## R1 計画\n",
        "ws['C8'].value=len(allkeikakuPIs)\n",
        "\n",
        "## R1 公募\n",
        "ws['D8'].value=0\n",
        "\n",
        "## R2 計画\n",
        "ws['E8'].value=len(allkeikakuPIs)\n",
        "\n",
        "## R2 公募\n",
        "ws['F8'].value=allgroupnames.count('D')\n",
        "\n",
        "\n",
        "# 研究分担者人数\n",
        "## R1 計画\n",
        "ws['C9'].value=np.sum(keikakudata['c03'])\n",
        "\n",
        "## R2 計画\n",
        "ws['E8'].value=np.sum(keikakudata['c09'])\n",
        "\n",
        "#研究協力者\n",
        "#若手研究者[1]\n",
        "#外国人研究者\n",
        "#ポスドク[2]\n",
        "#RA等[2]\n",
        "keikakulist=[col+'{0:02d}'.format(i) for col in ['C','E'] for i in range(10,15) ]\n",
        "buntanlist=[col+'{0:02d}'.format(i)  for col in ['D','F'] for i in range(10,15)]\n",
        "datapositions=['c'+'{0:02d}'.format(i) for i in [4,5,6,7,8,10,11,12,13,14]]\n",
        "for d,kei,bun in zip(datapositions,keikakulist,buntanlist):\n",
        "    ws[kei].value=keikakudata[d].astype(float).sum()\n",
        "    ws[bun].value=buntandata[d].astype(float).sum()\n"
      ]
    },
    {
      "cell_type": "code",
      "execution_count": 82,
      "metadata": {},
      "outputs": [],
      "source": [
        "wb.save(file_name_save)"
      ]
    }
  ],
  "metadata": {
    "colab": {
      "name": "researchmapv2_to_docx_single.ipynb",
      "provenance": [],
      "collapsed_sections": []
    },
    "kernelspec": {
      "name": "python37464bitbaseconda1bb88da9f3204af0b8eb00b007a81c5d",
      "display_name": "Python 3.8.5 64-bit ('base': conda)"
    },
    "language_info": {
      "codemirror_mode": {
        "name": "ipython",
        "version": 3
      },
      "file_extension": ".py",
      "mimetype": "text/x-python",
      "name": "python",
      "nbconvert_exporter": "python",
      "pygments_lexer": "ipython3",
      "version": "3.8.5"
    },
    "toc": {
      "colors": {
        "hover_highlight": "#DAA520",
        "navigate_num": "#000000",
        "navigate_text": "#333333",
        "running_highlight": "#FF0000",
        "selected_highlight": "#FFD700",
        "sidebar_border": "#EEEEEE",
        "wrapper_background": "#FFFFFF"
      },
      "moveMenuLeft": true,
      "nav_menu": {
        "height": "12px",
        "width": "252px"
      },
      "navigate_menu": true,
      "number_sections": true,
      "sideBar": true,
      "threshold": 4,
      "toc_cell": false,
      "toc_section_display": "block",
      "toc_window_display": false,
      "widenNotebook": false
    },
    "metadata": {
      "interpreter": {
        "hash": "b6aaa8c452f1aa53401d42c477fe97baeea39d8952471e90cdbb23434ceb6c90"
      }
    }
  },
  "nbformat": 4,
  "nbformat_minor": 0
}